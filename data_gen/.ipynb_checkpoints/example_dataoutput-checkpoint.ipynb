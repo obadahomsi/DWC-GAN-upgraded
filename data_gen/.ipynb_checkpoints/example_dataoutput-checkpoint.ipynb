{
 "cells": [
  {
   "cell_type": "code",
   "execution_count": 22,
   "metadata": {},
   "outputs": [],
   "source": [
    "import json\n",
    "import numpy as np"
   ]
  },
  {
   "cell_type": "code",
   "execution_count": 28,
   "metadata": {},
   "outputs": [],
   "source": [
    "shape_onehot_size = 3 #cylinder, cube, sphere (in this order)\n",
    "color_onehot_size = 8 #brown, gray, green, purple, blue, yellow, cyan, red (in this order)\n",
    "size_onehot_size = 2 #large, small (in this order)\n",
    "material_onehot_size = 2 #rubber, metal (in this order)\n",
    "\n",
    "max_num_of_obj = 10\n",
    "\n",
    "attribute_vector = np.zeros(max_num_of_obj*(shape_onehot_size+color_onehot_size+size_onehot_size+material_onehot_size))"
   ]
  },
  {
   "cell_type": "code",
   "execution_count": 29,
   "metadata": {},
   "outputs": [
    {
     "name": "stdout",
     "output_type": "stream",
     "text": [
      "150\n"
     ]
    }
   ],
   "source": [
    "attribute_vector = attribute_vector.tolist()\n",
    "print(len(attribute_vector))"
   ]
  },
  {
   "cell_type": "code",
   "execution_count": 16,
   "metadata": {},
   "outputs": [],
   "source": [
    "sample_dataset=\\\n",
    "[{'a': attribute_vector,\n",
    "  'ta': [attribute_vector,attribute_vector,attribute_vector],\n",
    "  'cd': ['change orange square to red', 'change orange cube to red sphere', 'change cube square to red large sphere'],\n",
    "  'im':'img11.jpg'},\n",
    " {'a': attribute_vector,\n",
    "  'ta': [attribute_vector,attribute_vector,attribute_vector],\n",
    "  'cd': ['change orange square to red', 'change orange cube to red sphere', 'change cube square to red large sphere'],\n",
    "  'im':'img11.jpg'}]"
   ]
  },
  {
   "cell_type": "code",
   "execution_count": 17,
   "metadata": {},
   "outputs": [],
   "source": [
    "with open('sample_dataset_json.json', 'w') as o:\n",
    "    json.dump(sample_dataset, o)"
   ]
  },
  {
   "cell_type": "code",
   "execution_count": null,
   "metadata": {},
   "outputs": [],
   "source": []
  },
  {
   "cell_type": "code",
   "execution_count": null,
   "metadata": {},
   "outputs": [],
   "source": []
  },
  {
   "cell_type": "code",
   "execution_count": null,
   "metadata": {},
   "outputs": [],
   "source": []
  }
 ],
 "metadata": {
  "kernelspec": {
   "display_name": "Python 3",
   "language": "python",
   "name": "python3"
  },
  "language_info": {
   "codemirror_mode": {
    "name": "ipython",
    "version": 3
   },
   "file_extension": ".py",
   "mimetype": "text/x-python",
   "name": "python",
   "nbconvert_exporter": "python",
   "pygments_lexer": "ipython3",
   "version": "3.8.5"
  }
 },
 "nbformat": 4,
 "nbformat_minor": 5
}
