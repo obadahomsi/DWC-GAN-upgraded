{
 "cells": [
  {
   "cell_type": "code",
   "execution_count": 119,
   "id": "spoken-citation",
   "metadata": {},
   "outputs": [],
   "source": [
    "import json\n",
    "import numpy as np\n",
    "import random\n",
    "from itertools import combinations"
   ]
  },
  {
   "cell_type": "code",
   "execution_count": 34,
   "id": "incorporate-lemon",
   "metadata": {},
   "outputs": [],
   "source": [
    "shapes=['cylinder', 'cube', 'sphere']\n",
    "colors = ['brown','gray','green','purple','blue','yellow','cyan','red']\n",
    "sizes=['large','small']\n",
    "materials=['rubber', 'metal']\n",
    "\n",
    "shape_onehot_size = len(shapes)\n",
    "color_onehot_size = len(colors)\n",
    "size_onehot_size = len(sizes)\n",
    "material_onehot_size = len(materials)\n",
    "\n",
    "per_obj_attribute_size = shape_onehot_size + color_onehot_size + size_onehot_size+ material_onehot_size\n",
    "\n",
    "min_num_obj = 3\n",
    "max_num_obj = 10 "
   ]
  },
  {
   "cell_type": "code",
   "execution_count": 79,
   "id": "baking-reward",
   "metadata": {},
   "outputs": [],
   "source": [
    "def string_shape_to_onehot(shape):\n",
    "    index = shapes.index(shape)\n",
    "    arry = np.zeros(shape_onehot_size).tolist()\n",
    "    arry[index] = 1\n",
    "    return arry\n",
    "\n",
    "def string_color_to_onehot(color):\n",
    "    index = colors.index(color)\n",
    "    arry = np.zeros(color_onehot_size).tolist()\n",
    "    arry[index] = 1\n",
    "    return arry\n",
    "\n",
    "def string_size_to_onehot(size):\n",
    "    index = sizes.index(size)\n",
    "    arry = np.zeros(size_onehot_size).tolist()\n",
    "    arry[index] = 1\n",
    "    return arry\n",
    "\n",
    "def string_material_to_onehot(material):\n",
    "    index = materials.index(material)\n",
    "    arry = np.zeros(material_onehot_size).tolist()\n",
    "    arry[index] = 1\n",
    "    return arry\n",
    "    \n",
    "def get_source_attribute(scene_graph):\n",
    "    empty = [0]*per_obj_attribute_size\n",
    "    obj_counter = 0\n",
    "    obj_idx_pos_idx =[]\n",
    "    object_attributes = {}\n",
    "    string_attributes = {}\n",
    "    len_obj = len(scene_graph['objects'])\n",
    "    for obj_idx in range(len_obj):\n",
    "        obj_idx_pos_idx.append([obj_idx, scene_graph['objects'][obj_idx]['pixel_coords'][0]])\n",
    "        \n",
    "        shape_s = scene_graph['objects'][obj_idx]['shape']\n",
    "        color_s = scene_graph['objects'][obj_idx]['color']\n",
    "        size_s = scene_graph['objects'][obj_idx]['size']\n",
    "        material_s = scene_graph['objects'][obj_idx]['material']\n",
    "        string_per_attr = [shape_s,color_s,size_s,material_s]\n",
    "        string_attributes[obj_idx] = string_per_attr\n",
    "        \n",
    "        shape = string_shape_to_onehot(shape_s)\n",
    "        color = string_color_to_onehot(color_s)\n",
    "        size = string_size_to_onehot(size_s)\n",
    "        material = string_material_to_onehot(material_s)\n",
    "        \n",
    "        object_attributes[obj_idx] = shape+color+size+material\n",
    "    obj_idx_pos_idx = sorted(obj_idx_pos_idx, key=lambda x: x[1])\n",
    "    source_attribute = []\n",
    "    string_attributes_ordered = []\n",
    "    for i in obj_idx_pos_idx:\n",
    "        source_attribute+= object_attributes[i[0]]\n",
    "        string_attributes_ordered.append(string_attributes[i[0]])\n",
    "    if len_obj < max_num_obj:\n",
    "        source_attribute+= empty*(max_num_obj - len_obj)\n",
    "    return source_attribute, len_obj, string_attributes_ordered"
   ]
  },
  {
   "cell_type": "code",
   "execution_count": 33,
   "id": "medium-knowing",
   "metadata": {},
   "outputs": [],
   "source": [
    "actions = ['move', 'change', 'add', 'remove']\n",
    "actions_min = ['move','change','add']\n",
    "actions_max = ['move','change','remove']\n",
    "\n",
    "move_commands=['move','shift','transfer']\n",
    "change_commands =['change', 'alter', 'modify']\n",
    "add_commands = ['add','append']\n",
    "remove_commands = ['remove', 'delete','erase' ]"
   ]
  },
  {
   "cell_type": "code",
   "execution_count": 133,
   "id": "ranging-summary",
   "metadata": {},
   "outputs": [],
   "source": [
    "def edited_str_attr_to_target_attr(esa):\n",
    "    target_attribute = []\n",
    "    empty = [0]*per_obj_attribute_size\n",
    "    for obj in esa:\n",
    "        shape = string_shape_to_onehot(obj[0])\n",
    "        color = string_color_to_onehot(obj[1])\n",
    "        size = string_size_to_onehot(obj[2])\n",
    "        material = string_material_to_onehot(obj[3])\n",
    "        obj_per = shape+color+size+material\n",
    "        target_attribute+=obj_per\n",
    "    if len(esa) < max_num_obj:\n",
    "        target_attribute+=empty*(max_num_obj-len(esa))\n",
    "    return target_attribute"
   ]
  },
  {
   "cell_type": "code",
   "execution_count": null,
   "id": "expressed-bernard",
   "metadata": {},
   "outputs": [],
   "source": [
    "def move_gen(len_obj,string_attribute):\n",
    "    \n",
    "    return input_text, target_attributes"
   ]
  },
  {
   "cell_type": "code",
   "execution_count": null,
   "id": "moderate-broadcast",
   "metadata": {},
   "outputs": [],
   "source": [
    "def change_gen(len_obj,string_attribute):\n",
    "    return input_text, target_attributes"
   ]
  },
  {
   "cell_type": "code",
   "execution_count": null,
   "id": "embedded-zealand",
   "metadata": {},
   "outputs": [],
   "source": [
    "def add_gen(len_obj,string_attribute):\n",
    "    return input_text, target_attributes"
   ]
  },
  {
   "cell_type": "code",
   "execution_count": 146,
   "id": "religious-decade",
   "metadata": {},
   "outputs": [],
   "source": [
    "def remove_gen(len_obj,string_attribute):\n",
    "    num_attr = random.randrange(4)  #in addition to shape, shape always taken.\n",
    "    obj_to_remove = random.randrange(len_obj)\n",
    "    shape = string_attribute[obj_to_remove][0]\n",
    "    attribute_in_text = [(0,shape)]\n",
    "    \n",
    "    for i in range(num_attr):\n",
    "        attribute_in_text.insert(0,random.choice([i for i in list(enumerate(string_attribute[obj_to_remove])) if i not in attribute_in_text ]))\n",
    "        \n",
    "    input_text = random.choice(remove_commands)\n",
    "    for i in attribute_in_text:\n",
    "        input_text+=' '+i[1]\n",
    "    input_text+='.'\n",
    "    \n",
    "    #Get objects that satisfy input text for removal\n",
    "    obj_to_remove = []\n",
    "    for obj_idx in range(len(string_attribute)):\n",
    "        valid_obj = True\n",
    "        for attr in attribute_in_text:\n",
    "            if string_attribute[obj_idx][attr[0]]!=attr[1]:\n",
    "                valid_obj = False\n",
    "        if valid_obj:\n",
    "            obj_to_remove.append(obj_idx)\n",
    "    \n",
    "    #get combinations of objects to remove (ex. [0],[1],[0,1])\n",
    "    obj_combinations = sum([list(map(list, combinations(obj_to_remove, i))) for i in range(len(obj_to_remove) + 1)], [])\n",
    "    obj_combinations = obj_combinations[1:] #first one is empty list\n",
    "    \n",
    "    #create an edited string attribute for each combination\n",
    "    edited_string_attributes = []\n",
    "    for i in obj_combinations:\n",
    "        edited_string_attribute = string_attribute.copy()\n",
    "        how_many_popped = 0\n",
    "        for l in i:\n",
    "            edited_string_attribute.pop(l-how_many_popped)\n",
    "            how_many_popped+=1\n",
    "        edited_string_attributes.append(edited_string_attribute)\n",
    "    \n",
    "    target_attributes = []\n",
    "    for esa in edited_string_attributes:\n",
    "        target_attributes.append(edited_str_attr_to_target_attr(esa))\n",
    "        \n",
    "    return input_text, target_attributes"
   ]
  },
  {
   "cell_type": "code",
   "execution_count": 36,
   "id": "suitable-claim",
   "metadata": {},
   "outputs": [],
   "source": [
    "def get_target_input( len_obj, string_attribute):\n",
    "    if len_obj>min_num_obj and len_obj<max_num_obj: \n",
    "        choice = random.choice(actions)\n",
    "    elif len_obj <=min_num_obj:\n",
    "        choice = random.choice(actions_min)\n",
    "    else:\n",
    "        choice = random.choice(actions_max)\n",
    "\n",
    "    if choice=='move':\n",
    "        input_text, target_attributes = move_gen(len_obj,string_attribute)\n",
    "    if choice=='change':\n",
    "        input_text, target_attributes = change_gen(len_obj,string_attribute)\n",
    "    if choice=='add':\n",
    "        input_text, target_attributes = add_gen(len_obj,string_attribute)\n",
    "    if choice=='remove':\n",
    "        input_text, target_attributes = remove_gen(len_obj,string_attribute)\n",
    "        \n",
    "    return input_text, target_attributes"
   ]
  },
  {
   "cell_type": "code",
   "execution_count": 29,
   "id": "stable-float",
   "metadata": {},
   "outputs": [],
   "source": [
    "def main(clvr_attr):\n",
    "    data_set = []\n",
    "    for i in clvr_attr['scenes']:\n",
    "        single_entry = {}\n",
    "        source_attribute, len_obj, string_attribute = get_source_attribute(i)\n",
    "        input_text, target_attributes = get_target_input(len_obj,string_attribute)\n",
    "        single_entry['a'] = source_attribute\n",
    "        single_entry['ta']= target_attributes\n",
    "        single_entry['cd']= input_text\n",
    "        single_entry['im'] = i['image_filename']\n",
    "        data_set.append(single_entry)\n",
    "    return data_set"
   ]
  },
  {
   "cell_type": "code",
   "execution_count": 26,
   "id": "catholic-raising",
   "metadata": {},
   "outputs": [],
   "source": [
    "clvr_attr_filename = \"CLEVR_train_scenes.json\"\n",
    "with open(clvr_attr_filename) as f:\n",
    "    clvr_attr = json.load(f)\n",
    "    \n",
    "data_set = main(clvr_attr)\n",
    "with open('CLEVR_train_data.json', 'w') as o:\n",
    "    json.dump(data_set, o)"
   ]
  },
  {
   "cell_type": "code",
   "execution_count": 80,
   "id": "contrary-fault",
   "metadata": {},
   "outputs": [],
   "source": [
    "source_attribute, len_obj, string_attribute = get_source_attribute(clvr_attr['scenes'][0])"
   ]
  },
  {
   "cell_type": "code",
   "execution_count": 192,
   "id": "unable-accident",
   "metadata": {},
   "outputs": [],
   "source": [
    "input_text, target_attributes = remove_gen(len_obj,string_attribute)"
   ]
  },
  {
   "cell_type": "code",
   "execution_count": 193,
   "id": "careful-accounting",
   "metadata": {},
   "outputs": [
    {
     "data": {
      "text/plain": [
       "'delete small cube.'"
      ]
     },
     "execution_count": 193,
     "metadata": {},
     "output_type": "execute_result"
    }
   ],
   "source": [
    "input_text"
   ]
  },
  {
   "cell_type": "code",
   "execution_count": 194,
   "id": "normal-roller",
   "metadata": {},
   "outputs": [
    {
     "data": {
      "text/plain": [
       "3"
      ]
     },
     "execution_count": 194,
     "metadata": {},
     "output_type": "execute_result"
    }
   ],
   "source": [
    "len(target_attributes)"
   ]
  },
  {
   "cell_type": "code",
   "execution_count": 195,
   "id": "contrary-customer",
   "metadata": {},
   "outputs": [
    {
     "data": {
      "text/plain": [
       "[['cylinder', 'green', 'large', 'metal'],\n",
       " ['cylinder', 'brown', 'large', 'metal'],\n",
       " ['cube', 'gray', 'small', 'rubber'],\n",
       " ['cube', 'blue', 'large', 'rubber'],\n",
       " ['cube', 'cyan', 'small', 'rubber'],\n",
       " ['sphere', 'brown', 'large', 'metal']]"
      ]
     },
     "execution_count": 195,
     "metadata": {},
     "output_type": "execute_result"
    }
   ],
   "source": [
    "string_attribute"
   ]
  },
  {
   "cell_type": "code",
   "execution_count": null,
   "id": "racial-kitchen",
   "metadata": {},
   "outputs": [],
   "source": []
  },
  {
   "cell_type": "code",
   "execution_count": null,
   "id": "raising-initial",
   "metadata": {},
   "outputs": [],
   "source": []
  },
  {
   "cell_type": "code",
   "execution_count": null,
   "id": "defined-electron",
   "metadata": {},
   "outputs": [],
   "source": []
  },
  {
   "cell_type": "code",
   "execution_count": null,
   "id": "alpine-wrong",
   "metadata": {},
   "outputs": [],
   "source": []
  },
  {
   "cell_type": "code",
   "execution_count": null,
   "id": "arctic-tournament",
   "metadata": {},
   "outputs": [],
   "source": []
  },
  {
   "cell_type": "code",
   "execution_count": null,
   "id": "civilian-philip",
   "metadata": {},
   "outputs": [],
   "source": []
  },
  {
   "cell_type": "code",
   "execution_count": null,
   "id": "personal-invitation",
   "metadata": {},
   "outputs": [],
   "source": []
  }
 ],
 "metadata": {
  "kernelspec": {
   "display_name": "Python 3",
   "language": "python",
   "name": "python3"
  },
  "language_info": {
   "codemirror_mode": {
    "name": "ipython",
    "version": 3
   },
   "file_extension": ".py",
   "mimetype": "text/x-python",
   "name": "python",
   "nbconvert_exporter": "python",
   "pygments_lexer": "ipython3",
   "version": "3.6.13"
  }
 },
 "nbformat": 4,
 "nbformat_minor": 5
}
